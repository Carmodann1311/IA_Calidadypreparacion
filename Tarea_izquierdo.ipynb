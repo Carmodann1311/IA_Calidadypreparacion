{
  "nbformat": 4,
  "nbformat_minor": 0,
  "metadata": {
    "colab": {
      "provenance": [],
      "authorship_tag": "ABX9TyNW2Z/76KJAVNbBTB62K9tX",
      "include_colab_link": true
    },
    "kernelspec": {
      "name": "python3",
      "display_name": "Python 3"
    },
    "language_info": {
      "name": "python"
    }
  },
  "cells": [
    {
      "cell_type": "markdown",
      "metadata": {
        "id": "view-in-github",
        "colab_type": "text"
      },
      "source": [
        "<a href=\"https://colab.research.google.com/github/Carmodann1311/IA_Calidadypreparacion/blob/main/Tarea_izquierdo.ipynb\" target=\"_parent\"><img src=\"https://colab.research.google.com/assets/colab-badge.svg\" alt=\"Open In Colab\"/></a>"
      ]
    },
    {
      "cell_type": "markdown",
      "source": [
        "ROBERTO DANIEL RODRÍGUEZ CARMONA\n",
        "EJEMPLO Problema de Grúas\n",
        "El número de solicitudes de ayuda recibidas por un servicio de grúas sigue\n",
        "una distribución de Poisson. Además, se reciben 4 llamadas por hora. Hazlos con un proceso de Proceso Poisson"
      ],
      "metadata": {
        "id": "L-6AmzB3DoNq"
      }
    },
    {
      "cell_type": "markdown",
      "source": [
        "***Definición de xt del Proceso Poisson: *** Un proceso de Poisson es un modelo estocástico que describe el número de eventos que ocurren en un intervalo de tiempo fijo. Sea Xt el número de eventos ocurridos hasta el tiempo t.El proceso de Poisson con tasa λ se define por las siguientes propiedades:"
      ],
      "metadata": {
        "id": "R4XrWHDX4cgk"
      }
    },
    {
      "cell_type": "markdown",
      "source": [
        "***Determine el parámetro λ que determina el valor promedio de ocurrencia\n",
        "del evento*** El parámetro 𝜆 es la tasa de ocurrencia promedio del evento por unidad de tiempo. Es decir, si el evento ocurre en promedio 𝜆 veces por unidad de tiempo, entonces el parámetro 𝜆 es el valor promedio de ocurrencia del evento. que en este caso es 4"
      ],
      "metadata": {
        "id": "Sf9OkRxx4cmU"
      }
    },
    {
      "cell_type": "markdown",
      "source": [
        "***Paso 3: Gráfica del Proceso Poisson***"
      ],
      "metadata": {
        "id": "PrfyhoCJ4cud"
      }
    },
    {
      "cell_type": "code",
      "source": [
        "import numpy as np\n",
        "import matplotlib.pyplot as plt\n",
        "\n",
        "# Parámetros\n",
        "tasa_llegada = 4  # llamadas por hora\n",
        "tiempo_simulacion = 10  # horas\n",
        "\n",
        "# Simulación del proceso de Poisson\n",
        "tiempos = np.arange(0, tiempo_simulacion, 0.1)\n",
        "llamadas = np.random.poisson(tasa_llegada, size=len(tiempos))\n",
        "\n",
        "# Graficar el proceso de Poisson\n",
        "plt.figure(figsize=(10, 6))\n",
        "plt.step(tiempos, llamadas, where='post')\n",
        "plt.xlabel('Tiempo (horas)')\n",
        "plt.ylabel('Número de llamadas')\n",
        "plt.title('Proceso de Poisson')\n",
        "plt.grid(True)\n",
        "plt.show()\n"
      ],
      "metadata": {
        "id": "SXyC5rP3C8aP",
        "outputId": "55a7fe05-ad66-4a04-9406-beaeb81dbb91",
        "colab": {
          "base_uri": "https://localhost:8080/",
          "height": 564
        }
      },
      "execution_count": 3,
      "outputs": [
        {
          "output_type": "display_data",
          "data": {
            "text/plain": [
              "<Figure size 1000x600 with 1 Axes>"
            ],
            "image/png": "[encoded data removed]"
          },
          "metadata": {}
        }
      ]
    },
    {
      "cell_type": "markdown",
      "source": [
        "***Paso 4: Cálculo de las probabilidades***\n",
        "Probabilidades\n",
        "Las probabilidades de que el número de eventos Xt en el tiempo total de observación (10 unidades de tiempo) sea igual a 1, 2, 3, 4 o 5 son las siguientes:\n"
      ],
      "metadata": {
        "id": "7U8CX5T_4cqM"
      }
    },
    {
      "cell_type": "code",
      "source": [
        "from math import exp, factorial\n",
        "\n",
        "# Calcular probabilidades para i = {1, 2, 3, 4, 5}\n",
        "probabilidades = []\n",
        "for i in range(1, 6):\n",
        "    prob = (tasa_llegada**i * exp(-tasa_llegada)) / factorial(i)\n",
        "    probabilidades.append(prob)\n",
        "    print(f\"P(Xt = {i}) = {prob:.4f}\")\n"
      ],
      "metadata": {
        "id": "_-oce7wXDIou",
        "outputId": "de85baee-e8c3-402c-ee31-9cb7dab88c79",
        "colab": {
          "base_uri": "https://localhost:8080/"
        }
      },
      "execution_count": 5,
      "outputs": [
        {
          "output_type": "stream",
          "name": "stdout",
          "text": [
            "P(Xt = 1) = 0.0733\n",
            "P(Xt = 2) = 0.1465\n",
            "P(Xt = 3) = 0.1954\n",
            "P(Xt = 4) = 0.1954\n",
            "P(Xt = 5) = 0.1563\n"
          ]
        }
      ]
    },
    {
      "cell_type": "markdown",
      "source": [
        "***Paso 5: Propiedad de pérdida de memoria***\n",
        "Un proceso de Poisson cumple con la propiedad de pérdida de memoria. Esto significa que el tiempo adicional hasta el próximo evento no depende del tiempo ya transcurrido desde el último evento.\n"
      ],
      "metadata": {
        "id": "MmpKZb-t6nDD"
      }
    },
    {
      "cell_type": "code",
      "source": [
        "# Verificar la propiedad de pérdida de memoria\n",
        "tiempo_pasado = 2  # horas sin ninguna llegada\n",
        "tasa_llegada_nueva = tasa_llegada * exp(-tasa_llegada * tiempo_pasado)\n",
        "print(f\"Tasa de llegada después de {tiempo_pasado} horas sin llegadas: {tasa_llegada_nueva:.4f}\")\n"
      ],
      "metadata": {
        "id": "stXF0QdQDVgf",
        "outputId": "efeae8b3-0f85-430f-cbfc-12763e43b2c7",
        "colab": {
          "base_uri": "https://localhost:8080/"
        }
      },
      "execution_count": 6,
      "outputs": [
        {
          "output_type": "stream",
          "name": "stdout",
          "text": [
            "Tasa de llegada después de 2 horas sin llegadas: 0.0013\n"
          ]
        }
      ]
    }
  ]
}