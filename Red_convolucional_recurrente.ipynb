{
  "nbformat": 4,
  "nbformat_minor": 0,
  "metadata": {
    "colab": {
      "provenance": [],
      "include_colab_link": true
    },
    "kernelspec": {
      "name": "python3",
      "display_name": "Python 3"
    },
    "language_info": {
      "name": "python"
    }
  },
  "cells": [
    {
      "cell_type": "markdown",
      "metadata": {
        "id": "view-in-github",
        "colab_type": "text"
      },
      "source": [
        "<a href=\"https://colab.research.google.com/github/Carmodann1311/IA_Calidadypreparacion/blob/main/Red_convolucional_recurrente.ipynb\" target=\"_parent\"><img src=\"https://colab.research.google.com/assets/colab-badge.svg\" alt=\"Open In Colab\"/></a>"
      ]
    },
    {
      "cell_type": "code",
      "source": [
        "import tensorflow as tf\n",
        "import tensorflow_datasets as tfds\n",
        "datos, metadatos = tfds.load('mnist', as_supervised=True, with_info=True)\n",
        "datos_entrenamiento, datos_pruebas = datos['train'], datos['test']\n",
        "\n",
        "\n",
        "def normalizar(imagenes, etiquetas):\n",
        "  imagenes = tf.cast(imagenes, tf.float32)\n",
        "  imagenes /= 255\n",
        "  return imagenes, etiquetas\n",
        "\n",
        "\n",
        "datos_entrenamiento = datos_entrenamiento.map(normalizar)\n",
        "datos_pruebas = datos_pruebas.map(normalizar)\n",
        "\n",
        "\n",
        "datos_entrenamiento = datos_entrenamiento.cache()\n",
        "datos_pruebas = datos_pruebas.cache()\n",
        "\n",
        "clases = ['0', '1', '2', '3', '4', '5', '6', '7', '8', '9']"
      ],
      "metadata": {
        "id": "uc31_WT_g7yT"
      },
      "execution_count": null,
      "outputs": []
    },
    {
      "cell_type": "code",
      "source": [
        "import matplotlib.pyplot as plt\n",
        "\n",
        "plt.figure(figsize=(10,10))\n",
        "\n",
        "for i, (imagen, etiqueta) in enumerate(datos_entrenamiento.take(25)):\n",
        "  imagen = imagen.numpy().reshape((28,28))\n",
        "  plt.subplot(5,5,i+1)\n",
        "  plt.xticks([])\n",
        "  plt.yticks([])\n",
        "  plt.grid(False)\n",
        "  plt.imshow(imagen, cmap=plt.cm.binary)\n",
        "  plt.xlabel(clases[etiqueta])\n",
        "\n",
        "plt.show()"
      ],
      "metadata": {
        "id": "4FTLqqlZruXK"
      },
      "execution_count": null,
      "outputs": []
    },
    {
      "cell_type": "code",
      "source": [
        "modelo = tf.keras.Sequential([\n",
        "    tf.keras.layers.Conv2D(32, (3,3), input_shape=(28,28,1), activation='relu'),\n",
        "    tf.keras.layers.MaxPooling2D(2,2), #2,2 es el tamano de la matriz\n",
        "\n",
        "    tf.keras.layers.Conv2D(64, (3,3), activation='relu'),\n",
        "    tf.keras.layers.MaxPooling2D(2,2), #2,2 es el tamano de la matriz\n",
        "\n",
        "    tf.keras.layers.Flatten(),\n",
        "    tf.keras.layers.Dense(units=100, activation='relu'),\n",
        "    tf.keras.layers.Dense(10, activation='softmax')\n",
        "])\n",
        "\n",
        "#Compilar el modelo\n",
        "modelo.compile(\n",
        "    optimizer='adam',\n",
        "    loss=tf.keras.losses.SparseCategoricalCrossentropy(),\n",
        "    metrics=['accuracy']\n",
        ")"
      ],
      "metadata": {
        "id": "3kxU9lSGrufx"
      },
      "execution_count": null,
      "outputs": []
    },
    {
      "cell_type": "code",
      "source": [
        "num_datos_entrenamiento = metadatos.splits[\"train\"].num_examples\n",
        "num_datos_pruebas = metadatos.splits[\"test\"].num_examples\n",
        "\n",
        "#Trabajar por lotes\n",
        "TAMANO_LOTE=32\n",
        "\n",
        "#Shuffle y repeat hacen que los datos esten mezclados de manera aleatoria\n",
        "#para que el entrenamiento no se aprenda las cosas en orden\n",
        "datos_entrenamiento = datos_entrenamiento.repeat().shuffle(num_datos_entrenamiento).batch(TAMANO_LOTE)\n",
        "datos_pruebas = datos_pruebas.batch(TAMANO_LOTE)"
      ],
      "metadata": {
        "id": "_lEt3YXXrujC"
      },
      "execution_count": null,
      "outputs": []
    },
    {
      "cell_type": "code",
      "source": [
        "import math\n",
        "\n",
        "historial = modelo.fit(\n",
        "    datos_entrenamiento,\n",
        "    epochs=60,\n",
        "    steps_per_epoch=math.ceil(num_datos_entrenamiento/TAMANO_LOTE)\n",
        ")"
      ],
      "metadata": {
        "id": "2MyMUz8rrumQ"
      },
      "execution_count": null,
      "outputs": []
    },
    {
      "cell_type": "code",
      "source": [
        "modelo.save('numeros_conv.h5')\n",
        "\n",
        "#Convertirlo a tensorflow.js\n",
        "!pip install tensorflowjs\n",
        "\n",
        "!mkdir carpeta_salida\n",
        "\n",
        "!tensorflowjs_converter --input_format keras numeros_conv.h5 carpeta_salida"
      ],
      "metadata": {
        "id": "ucAp7mlGr6CD"
      },
      "execution_count": null,
      "outputs": []
    },
    {
      "cell_type": "code",
      "source": [],
      "metadata": {
        "id": "BpL2v-SNg8Lc"
      },
      "execution_count": null,
      "outputs": []
    },
    {
      "cell_type": "code",
      "source": [],
      "metadata": {
        "id": "M14PxWFQg8Qc"
      },
      "execution_count": null,
      "outputs": []
    }
  ]
}