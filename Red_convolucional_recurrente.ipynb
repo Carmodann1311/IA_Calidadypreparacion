{
  "nbformat": 4,
  "nbformat_minor": 0,
  "metadata": {
    "colab": {
      "provenance": [],
      "include_colab_link": true
    },
    "kernelspec": {
      "name": "python3",
      "display_name": "Python 3"
    },
    "language_info": {
      "name": "python"
    }
  },
  "cells": [
    {
      "cell_type": "markdown",
      "metadata": {
        "id": "view-in-github",
        "colab_type": "text"
      },
      "source": [
        "<a href=\"https://colab.research.google.com/github/Carmodann1311/IA_Calidadypreparacion/blob/main/Red_convolucional_recurrente.ipynb\" target=\"_parent\"><img src=\"https://colab.research.google.com/assets/colab-badge.svg\" alt=\"Open In Colab\"/></a>"
      ]
    },
    {
      "cell_type": "code",
      "source": [
        "import tensorflow as tf\n",
        "from tensorflow.keras import layers, models\n"
      ],
      "metadata": {
        "id": "pitezlarI4mp"
      },
      "execution_count": null,
      "outputs": []
    },
    {
      "cell_type": "code",
      "source": [
        "model = models.Sequential()\n",
        "\n",
        "# Primera capa convolucional con activación ReLU\n",
        "model.add(layers.Conv2D(32, (3, 3), activation='relu', input_shape=(28, 28, 1)))\n",
        "# Capa de pooling\n",
        "model.add(layers.MaxPooling2D((2, 2)))\n",
        "# Segunda capa convolucional con activación ReLU\n",
        "model.add(layers.Conv2D(64, (3, 3), activation='relu'))\n",
        "# Capa de pooling\n",
        "model.add(layers.MaxPooling2D((2, 2)))\n",
        "# Tercera capa convolucional con activación ReLU\n",
        "model.add(layers.Conv2D(64, (3, 3), activation='relu'))\n"
      ],
      "metadata": {
        "id": "RV95kL6SI4pS"
      },
      "execution_count": null,
      "outputs": []
    },
    {
      "cell_type": "code",
      "source": [
        "model.add(layers.Flatten())\n",
        "# Capa densa con activación ReLU\n",
        "model.add(layers.Dense(64, activation='relu'))\n",
        "# Capa de salida con activación softmax para clasificación multiclase\n",
        "model.add(layers.Dense(10, activation='softmax'))\n"
      ],
      "metadata": {
        "id": "GaIp7H1rI4r5"
      },
      "execution_count": null,
      "outputs": []
    },
    {
      "cell_type": "code",
      "source": [
        "model.compile(optimizer='adam',\n",
        "              loss='sparse_categorical_crossentropy',\n",
        "              metrics=['accuracy'])\n"
      ],
      "metadata": {
        "id": "Qa8qYD_GI4uf"
      },
      "execution_count": null,
      "outputs": []
    },
    {
      "cell_type": "code",
      "source": [
        "model.fit(train_images, train_labels, epochs=10, validation_data=(test_images, test_labels))\n"
      ],
      "metadata": {
        "id": "oxuhNXrVI4zg"
      },
      "execution_count": null,
      "outputs": []
    },
    {
      "cell_type": "code",
      "source": [
        "test_loss, test_acc = model.evaluate(test_images, test_labels)\n",
        "print('Test accuracy:', test_acc)\n"
      ],
      "metadata": {
        "id": "evZky3ucI42d"
      },
      "execution_count": null,
      "outputs": []
    },
    {
      "cell_type": "code",
      "source": [],
      "metadata": {
        "id": "4FeCoI9VI45b"
      },
      "execution_count": null,
      "outputs": []
    },
    {
      "cell_type": "code",
      "source": [],
      "metadata": {
        "id": "MwMWQgVHI4-z"
      },
      "execution_count": null,
      "outputs": []
    }
  ]
}