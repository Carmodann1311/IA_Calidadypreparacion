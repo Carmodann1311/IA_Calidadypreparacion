{
  "nbformat": 4,
  "nbformat_minor": 0,
  "metadata": {
    "colab": {
      "provenance": [],
      "authorship_tag": "ABX9TyMHR/pK7y9VT0EHAM/KEpQx",
      "include_colab_link": true
    },
    "kernelspec": {
      "name": "python3",
      "display_name": "Python 3"
    },
    "language_info": {
      "name": "python"
    }
  },
  "cells": [
    {
      "cell_type": "markdown",
      "metadata": {
        "id": "view-in-github",
        "colab_type": "text"
      },
      "source": [
        "<a href=\"https://colab.research.google.com/github/Carmodann1311/IA_Calidadypreparacion/blob/main/Red_convolucional_recurrente.ipynb\" target=\"_parent\"><img src=\"https://colab.research.google.com/assets/colab-badge.svg\" alt=\"Open In Colab\"/></a>"
      ]
    },
    {
      "cell_type": "code",
      "source": [
        "# Instalación de TensorFlow 2.x (en caso de no estar instalado)\n",
        "!pip install -q tensorflow\n",
        "\n",
        "# Importar bibliotecas\n",
        "import tensorflow as tf\n",
        "from tensorflow.keras import datasets, layers, models\n",
        "\n",
        "# Cargar el conjunto de datos Fashion MNIST\n",
        "(train_images, train_labels), (test_images, test_labels) = datasets.fashion_mnist.load_data()\n",
        "\n",
        "# Preprocesamiento de datos\n",
        "# Normalizar las imágenes\n",
        "train_images, test_images = train_images / 255.0, test_images / 255.0\n",
        "\n",
        "# Agregar una dimensión de canal para las imágenes (requerido para CNN en TensorFlow)\n",
        "train_images = train_images[..., tf.newaxis]\n",
        "test_images = test_images[..., tf.newaxis]\n",
        "\n",
        "# Definir la arquitectura del modelo\n",
        "model = models.Sequential([\n",
        "    layers.Conv2D(32, (3, 3), activation='relu', input_shape=(28, 28, 1)),\n",
        "    layers.MaxPooling2D((2, 2)),\n",
        "    layers.Conv2D(64, (3, 3), activation='relu'),\n",
        "    layers.MaxPooling2D((2, 2)),\n",
        "    layers.Conv2D(64, (3, 3), activation='relu'),\n",
        "    layers.Flatten(),\n",
        "    layers.Dense(64, activation='relu'),\n",
        "    layers.Dense(10, activation='softmax')\n",
        "])\n",
        "\n",
        " # Compilar el modelo\n",
        "model.compile(optimizer='adam',\n",
        "loss='sparse_categorical_crossentropy',\n",
        "metrics=['accuracy'])\n",
        "\n",
        "   # Entrenar el modelo\n",
        "model.fit(train_images, train_labels, epochs=10, validation_data=(test_images, test_labels))\n",
        "\n",
        " # Evaluar el modelo\n",
        "test_loss, test_acc = model.evaluate(test_images, test_labels)\n",
        "print('Accuracy:', test_acc)\n"
      ],
      "metadata": {
        "colab": {
          "base_uri": "https://localhost:8080/"
        },
        "id": "K5y4xAo3ke_s",
        "outputId": "0c2f59fc-866a-4ee2-e7e2-fa0cd144f35c"
      },
      "execution_count": 11,
      "outputs": [
        {
          "output_type": "stream",
          "name": "stdout",
          "text": [
            "Downloading data from https://storage.googleapis.com/tensorflow/tf-keras-datasets/train-labels-idx1-ubyte.gz\n",
            "29515/29515 [==============================] - 0s 0us/step\n",
            "Downloading data from https://storage.googleapis.com/tensorflow/tf-keras-datasets/train-images-idx3-ubyte.gz\n",
            "26421880/26421880 [==============================] - 0s 0us/step\n",
            "Downloading data from https://storage.googleapis.com/tensorflow/tf-keras-datasets/t10k-labels-idx1-ubyte.gz\n",
            "5148/5148 [==============================] - 0s 0us/step\n",
            "Downloading data from https://storage.googleapis.com/tensorflow/tf-keras-datasets/t10k-images-idx3-ubyte.gz\n",
            "4422102/4422102 [==============================] - 0s 0us/step\n",
            "Epoch 1/10\n",
            "1875/1875 [==============================] - 58s 30ms/step - loss: 0.4950 - accuracy: 0.8156 - val_loss: 0.3621 - val_accuracy: 0.8674\n",
            "Epoch 2/10\n",
            "1875/1875 [==============================] - 58s 31ms/step - loss: 0.3190 - accuracy: 0.8835 - val_loss: 0.3423 - val_accuracy: 0.8725\n",
            "Epoch 3/10\n",
            "1875/1875 [==============================] - 57s 30ms/step - loss: 0.2700 - accuracy: 0.8995 - val_loss: 0.2921 - val_accuracy: 0.8941\n",
            "Epoch 4/10\n",
            "1875/1875 [==============================] - 55s 29ms/step - loss: 0.2404 - accuracy: 0.9098 - val_loss: 0.2779 - val_accuracy: 0.8997\n",
            "Epoch 5/10\n",
            "1875/1875 [==============================] - 55s 30ms/step - loss: 0.2168 - accuracy: 0.9192 - val_loss: 0.2655 - val_accuracy: 0.9070\n",
            "Epoch 6/10\n",
            "1875/1875 [==============================] - 55s 29ms/step - loss: 0.1971 - accuracy: 0.9272 - val_loss: 0.2615 - val_accuracy: 0.9048\n",
            "Epoch 7/10\n",
            "1875/1875 [==============================] - 55s 29ms/step - loss: 0.1789 - accuracy: 0.9327 - val_loss: 0.2564 - val_accuracy: 0.9095\n",
            "Epoch 8/10\n",
            "1875/1875 [==============================] - 56s 30ms/step - loss: 0.1643 - accuracy: 0.9372 - val_loss: 0.2636 - val_accuracy: 0.9086\n",
            "Epoch 9/10\n",
            "1875/1875 [==============================] - 56s 30ms/step - loss: 0.1496 - accuracy: 0.9433 - val_loss: 0.2901 - val_accuracy: 0.9102\n",
            "Epoch 10/10\n",
            "1875/1875 [==============================] - 56s 30ms/step - loss: 0.1375 - accuracy: 0.9476 - val_loss: 0.2782 - val_accuracy: 0.9108\n",
            "313/313 [==============================] - 3s 9ms/step - loss: 0.2782 - accuracy: 0.9108\n",
            "Accuracy: 0.9107999801635742\n"
          ]
        }
      ]
    }
  ]
}