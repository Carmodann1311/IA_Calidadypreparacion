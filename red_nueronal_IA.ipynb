{
  "nbformat": 4,
  "nbformat_minor": 0,
  "metadata": {
    "colab": {
      "provenance": [],
      "authorship_tag": "ABX9TyMJ2EhfXT2MfmMeUGMDcq6N",
      "include_colab_link": true
    },
    "kernelspec": {
      "name": "python3",
      "display_name": "Python 3"
    },
    "language_info": {
      "name": "python"
    }
  },
  "cells": [
    {
      "cell_type": "markdown",
      "metadata": {
        "id": "view-in-github",
        "colab_type": "text"
      },
      "source": [
        "<a href=\"https://colab.research.google.com/github/Carmodann1311/IA_Calidadypreparacion/blob/main/red_nueronal_IA.ipynb\" target=\"_parent\"><img src=\"https://colab.research.google.com/assets/colab-badge.svg\" alt=\"Open In Colab\"/></a>"
      ]
    },
    {
      "cell_type": "markdown",
      "source": [],
      "metadata": {
        "id": "S3WFbRx4VSd5"
      }
    },
    {
      "cell_type": "code",
      "source": [
        "import tensorflow as tf\n",
        "from tensorflow.keras import layers, models, datasets\n"
      ],
      "metadata": {
        "id": "uJ3vCl-gDFwk"
      },
      "execution_count": 33,
      "outputs": []
    },
    {
      "cell_type": "markdown",
      "source": [],
      "metadata": {
        "id": "2p1Z4uVnVVUW"
      }
    },
    {
      "cell_type": "code",
      "source": [
        "# Cargar el conjunto de datos CIFAR-10\n",
        "(train_images, train_labels), (test_images, test_labels) = datasets.cifar10.load_data()\n",
        "\n",
        "# Normalizar los valores de píxeles al rango de 0 a 1\n",
        "train_images, test_images = train_images / 255.0, test_images / 255.0\n"
      ],
      "metadata": {
        "id": "0lUKCIiIEmuB",
        "outputId": "d5b361b5-464c-49a8-d29c-076b292d55a3",
        "colab": {
          "base_uri": "https://localhost:8080/"
        }
      },
      "execution_count": 34,
      "outputs": [
        {
          "output_type": "stream",
          "name": "stdout",
          "text": [
            "Downloading data from https://www.cs.toronto.edu/~kriz/cifar-10-python.tar.gz\n",
            "170498071/170498071 [==============================] - 10s 0us/step\n"
          ]
        }
      ]
    },
    {
      "cell_type": "markdown",
      "source": [],
      "metadata": {
        "id": "fzxa18HJVWhG"
      }
    },
    {
      "cell_type": "code",
      "source": [
        "model = models.Sequential([\n",
        "      layers.Conv2D(32, (3, 3), activation='relu', input_shape=(32, 32, 3)),  # Capa convolucional 2D\n",
        "      layers.MaxPooling2D((2, 2)),  # Capa de Max Pooling\n",
        "      layers.Conv2D(64, (3, 3), activation='relu'),  # Segunda capa convolucional 2D\n",
        "      layers.MaxPooling2D((2, 2)),  # Segunda capa de Max Pooling\n",
        "      layers.Conv2D(64, (3, 3), activation='relu'),  # Tercera capa convolucional 2D\n",
        "      layers.Flatten(),  # Aplanar para la capa densa\n",
        "      layers.Dense(64, activation='relu'),  # Capa densa oculta\n",
        "      layers.Dense(10)  # Capa de salida con 10 neuronas para clasificar las 10 clases\n",
        "])\n",
        "\n"
      ],
      "metadata": {
        "id": "zP_jN8pmEoLf"
      },
      "execution_count": 35,
      "outputs": []
    },
    {
      "cell_type": "markdown",
      "source": [],
      "metadata": {
        "id": "qLBA6toSVZM5"
      }
    },
    {
      "cell_type": "code",
      "source": [
        "model.compile(optimizer='adam',\n",
        "              loss=tf.keras.losses.SparseCategoricalCrossentropy(from_logits=True),\n",
        "                            metrics=['accuracy'])\n"
      ],
      "metadata": {
        "id": "6GEkyZSzFCv5"
      },
      "execution_count": 36,
      "outputs": []
    },
    {
      "cell_type": "markdown",
      "source": [],
      "metadata": {
        "id": "YsBMiB7gVbsd"
      }
    },
    {
      "cell_type": "code",
      "source": [
        "model.fit(train_images, train_labels, epochs=10, validation_data=(test_images, test_labels))\n"
      ],
      "metadata": {
        "id": "GoDK_qTdA9gP",
        "outputId": "27ac9970-48b9-40f2-a362-985873fb3e4d",
        "colab": {
          "base_uri": "https://localhost:8080/"
        }
      },
      "execution_count": 37,
      "outputs": [
        {
          "output_type": "stream",
          "name": "stdout",
          "text": [
            "Epoch 1/10\n",
            "1563/1563 [==============================] - 63s 40ms/step - loss: 1.5151 - accuracy: 0.4484 - val_loss: 1.2955 - val_accuracy: 0.5362\n",
            "Epoch 2/10\n",
            "1563/1563 [==============================] - 63s 40ms/step - loss: 1.1588 - accuracy: 0.5900 - val_loss: 1.1145 - val_accuracy: 0.6051\n",
            "Epoch 3/10\n",
            "1563/1563 [==============================] - 59s 38ms/step - loss: 1.0015 - accuracy: 0.6472 - val_loss: 0.9836 - val_accuracy: 0.6580\n",
            "Epoch 4/10\n",
            "1563/1563 [==============================] - 63s 40ms/step - loss: 0.9012 - accuracy: 0.6843 - val_loss: 0.9162 - val_accuracy: 0.6777\n",
            "Epoch 5/10\n",
            "1563/1563 [==============================] - 61s 39ms/step - loss: 0.8270 - accuracy: 0.7115 - val_loss: 0.8811 - val_accuracy: 0.6905\n",
            "Epoch 6/10\n",
            "1563/1563 [==============================] - 61s 39ms/step - loss: 0.7714 - accuracy: 0.7280 - val_loss: 0.8539 - val_accuracy: 0.7003\n",
            "Epoch 7/10\n",
            "1563/1563 [==============================] - 61s 39ms/step - loss: 0.7178 - accuracy: 0.7481 - val_loss: 0.8519 - val_accuracy: 0.7090\n",
            "Epoch 8/10\n",
            "1563/1563 [==============================] - 59s 38ms/step - loss: 0.6750 - accuracy: 0.7635 - val_loss: 0.8491 - val_accuracy: 0.7108\n",
            "Epoch 9/10\n",
            "1563/1563 [==============================] - 63s 40ms/step - loss: 0.6312 - accuracy: 0.7791 - val_loss: 0.8531 - val_accuracy: 0.7148\n",
            "Epoch 10/10\n",
            "1563/1563 [==============================] - 59s 38ms/step - loss: 0.6003 - accuracy: 0.7876 - val_loss: 0.9018 - val_accuracy: 0.7052\n"
          ]
        },
        {
          "output_type": "execute_result",
          "data": {
            "text/plain": [
              "<keras.src.callbacks.History at 0x787a5f04ce80>"
            ]
          },
          "metadata": {},
          "execution_count": 37
        }
      ]
    },
    {
      "cell_type": "markdown",
      "source": [],
      "metadata": {
        "id": "GseMxmmXVdzr"
      }
    },
    {
      "cell_type": "code",
      "source": [
        "test_loss, test_acc = model.evaluate(test_images, test_labels)\n",
        "print('Precisión en el conjunto de prueba:', test_acc)\n"
      ],
      "metadata": {
        "id": "dT7eIz9KAfr2",
        "outputId": "485fadc5-e9a4-4dbd-e7b3-b99aec3eecf8",
        "colab": {
          "base_uri": "https://localhost:8080/"
        }
      },
      "execution_count": 38,
      "outputs": [
        {
          "output_type": "stream",
          "name": "stdout",
          "text": [
            "313/313 [==============================] - 3s 10ms/step - loss: 0.9018 - accuracy: 0.7052\n",
            "Precisión en el conjunto de prueba: 0.7052000164985657\n"
          ]
        }
      ]
    }
  ]
}