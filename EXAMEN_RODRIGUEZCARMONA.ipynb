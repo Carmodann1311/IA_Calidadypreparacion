{
  "nbformat": 4,
  "nbformat_minor": 0,
  "metadata": {
    "colab": {
      "provenance": [],
      "authorship_tag": "ABX9TyMTNbI6rsJGLR72BgGBM/ju",
      "include_colab_link": true
    },
    "kernelspec": {
      "name": "python3",
      "display_name": "Python 3"
    },
    "language_info": {
      "name": "python"
    }
  },
  "cells": [
    {
      "cell_type": "markdown",
      "metadata": {
        "id": "view-in-github",
        "colab_type": "text"
      },
      "source": [
        "<a href=\"https://colab.research.google.com/github/Carmodann1311/IA_Calidadypreparacion/blob/main/EXAMEN_RODRIGUEZCARMONA.ipynb\" target=\"_parent\"><img src=\"https://colab.research.google.com/assets/colab-badge.svg\" alt=\"Open In Colab\"/></a>"
      ]
    },
    {
      "cell_type": "markdown",
      "source": [
        "**PARTE 1 DE EXAMEN ESTUDIANTES**"
      ],
      "metadata": {
        "id": "Roho-AwjfNFP"
      }
    },
    {
      "cell_type": "code",
      "execution_count": 1,
      "metadata": {
        "colab": {
          "base_uri": "https://localhost:8080/",
          "height": 206
        },
        "id": "NH2w5xW8bqXb",
        "outputId": "5e9e117f-8ec1-459c-fd30-6147499bdfc9"
      },
      "outputs": [
        {
          "output_type": "execute_result",
          "data": {
            "text/plain": [
              "  Estudiante       Sexo    Centro  Edad  Semestre  Calculo  Estadistica  \\\n",
              "0        Ana   Femenino       GAM    18         5      8.0          9.5   \n",
              "1       Pepe  Masculino   Copilco    19         6      7.4          7.3   \n",
              "2       Ines   Femenino  Coyoacán    20         7      9.2          8.0   \n",
              "3       Luis  Masculino       MAC    20         7      6.5          6.5   \n",
              "4      Pedro  Masculino       GAM    21         5      6.0          7.8   \n",
              "\n",
              "   Ingles   IA  \n",
              "0     8.6  8.0  \n",
              "1     9.0  7.0  \n",
              "2     8.0  7.5  \n",
              "3     7.0  9.0  \n",
              "4     8.9  8.6  "
            ],
            "text/html": [
              "\n",
              "  <div id=\"df-02edb321-a03c-4901-b1c7-a3a2c43a2458\" class=\"colab-df-container\">\n",
              "    <div>\n",
              "<style scoped>\n",
              "    .dataframe tbody tr th:only-of-type {\n",
              "        vertical-align: middle;\n",
              "    }\n",
              "\n",
              "    .dataframe tbody tr th {\n",
              "        vertical-align: top;\n",
              "    }\n",
              "\n",
              "    .dataframe thead th {\n",
              "        text-align: right;\n",
              "    }\n",
              "</style>\n",
              "<table border=\"1\" class=\"dataframe\">\n",
              "  <thead>\n",
              "    <tr style=\"text-align: right;\">\n",
              "      <th></th>\n",
              "      <th>Estudiante</th>\n",
              "      <th>Sexo</th>\n",
              "      <th>Centro</th>\n",
              "      <th>Edad</th>\n",
              "      <th>Semestre</th>\n",
              "      <th>Calculo</th>\n",
              "      <th>Estadistica</th>\n",
              "      <th>Ingles</th>\n",
              "      <th>IA</th>\n",
              "    </tr>\n",
              "  </thead>\n",
              "  <tbody>\n",
              "    <tr>\n",
              "      <th>0</th>\n",
              "      <td>Ana</td>\n",
              "      <td>Femenino</td>\n",
              "      <td>GAM</td>\n",
              "      <td>18</td>\n",
              "      <td>5</td>\n",
              "      <td>8.0</td>\n",
              "      <td>9.5</td>\n",
              "      <td>8.6</td>\n",
              "      <td>8.0</td>\n",
              "    </tr>\n",
              "    <tr>\n",
              "      <th>1</th>\n",
              "      <td>Pepe</td>\n",
              "      <td>Masculino</td>\n",
              "      <td>Copilco</td>\n",
              "      <td>19</td>\n",
              "      <td>6</td>\n",
              "      <td>7.4</td>\n",
              "      <td>7.3</td>\n",
              "      <td>9.0</td>\n",
              "      <td>7.0</td>\n",
              "    </tr>\n",
              "    <tr>\n",
              "      <th>2</th>\n",
              "      <td>Ines</td>\n",
              "      <td>Femenino</td>\n",
              "      <td>Coyoacán</td>\n",
              "      <td>20</td>\n",
              "      <td>7</td>\n",
              "      <td>9.2</td>\n",
              "      <td>8.0</td>\n",
              "      <td>8.0</td>\n",
              "      <td>7.5</td>\n",
              "    </tr>\n",
              "    <tr>\n",
              "      <th>3</th>\n",
              "      <td>Luis</td>\n",
              "      <td>Masculino</td>\n",
              "      <td>MAC</td>\n",
              "      <td>20</td>\n",
              "      <td>7</td>\n",
              "      <td>6.5</td>\n",
              "      <td>6.5</td>\n",
              "      <td>7.0</td>\n",
              "      <td>9.0</td>\n",
              "    </tr>\n",
              "    <tr>\n",
              "      <th>4</th>\n",
              "      <td>Pedro</td>\n",
              "      <td>Masculino</td>\n",
              "      <td>GAM</td>\n",
              "      <td>21</td>\n",
              "      <td>5</td>\n",
              "      <td>6.0</td>\n",
              "      <td>7.8</td>\n",
              "      <td>8.9</td>\n",
              "      <td>8.6</td>\n",
              "    </tr>\n",
              "  </tbody>\n",
              "</table>\n",
              "</div>\n",
              "    <div class=\"colab-df-buttons\">\n",
              "\n",
              "  <div class=\"colab-df-container\">\n",
              "    <button class=\"colab-df-convert\" onclick=\"convertToInteractive('df-02edb321-a03c-4901-b1c7-a3a2c43a2458')\"\n",
              "            title=\"Convert this dataframe to an interactive table.\"\n",
              "            style=\"display:none;\">\n",
              "\n",
              "  <svg xmlns=\"http://www.w3.org/2000/svg\" height=\"24px\" viewBox=\"0 -960 960 960\">\n",
              "    <path d=\"M120-120v-720h720v720H120Zm60-500h600v-160H180v160Zm220 220h160v-160H400v160Zm0 220h160v-160H400v160ZM180-400h160v-160H180v160Zm440 0h160v-160H620v160ZM180-180h160v-160H180v160Zm440 0h160v-160H620v160Z\"/>\n",
              "  </svg>\n",
              "    </button>\n",
              "\n",
              "  <style>\n",
              "    .colab-df-container {\n",
              "      display:flex;\n",
              "      gap: 12px;\n",
              "    }\n",
              "\n",
              "    .colab-df-convert {\n",
              "      background-color: #E8F0FE;\n",
              "      border: none;\n",
              "      border-radius: 50%;\n",
              "      cursor: pointer;\n",
              "      display: none;\n",
              "      fill: #1967D2;\n",
              "      height: 32px;\n",
              "      padding: 0 0 0 0;\n",
              "      width: 32px;\n",
              "    }\n",
              "\n",
              "    .colab-df-convert:hover {\n",
              "      background-color: #E2EBFA;\n",
              "      box-shadow: 0px 1px 2px rgba(60, 64, 67, 0.3), 0px 1px 3px 1px rgba(60, 64, 67, 0.15);\n",
              "      fill: #174EA6;\n",
              "    }\n",
              "\n",
              "    .colab-df-buttons div {\n",
              "      margin-bottom: 4px;\n",
              "    }\n",
              "\n",
              "    [theme=dark] .colab-df-convert {\n",
              "      background-color: #3B4455;\n",
              "      fill: #D2E3FC;\n",
              "    }\n",
              "\n",
              "    [theme=dark] .colab-df-convert:hover {\n",
              "      background-color: #434B5C;\n",
              "      box-shadow: 0px 1px 3px 1px rgba(0, 0, 0, 0.15);\n",
              "      filter: drop-shadow(0px 1px 2px rgba(0, 0, 0, 0.3));\n",
              "      fill: #FFFFFF;\n",
              "    }\n",
              "  </style>\n",
              "\n",
              "    <script>\n",
              "      const buttonEl =\n",
              "        document.querySelector('#df-02edb321-a03c-4901-b1c7-a3a2c43a2458 button.colab-df-convert');\n",
              "      buttonEl.style.display =\n",
              "        google.colab.kernel.accessAllowed ? 'block' : 'none';\n",
              "\n",
              "      async function convertToInteractive(key) {\n",
              "        const element = document.querySelector('#df-02edb321-a03c-4901-b1c7-a3a2c43a2458');\n",
              "        const dataTable =\n",
              "          await google.colab.kernel.invokeFunction('convertToInteractive',\n",
              "                                                    [key], {});\n",
              "        if (!dataTable) return;\n",
              "\n",
              "        const docLinkHtml = 'Like what you see? Visit the ' +\n",
              "          '<a target=\"_blank\" href=https://colab.research.google.com/notebooks/data_table.ipynb>data table notebook</a>'\n",
              "          + ' to learn more about interactive tables.';\n",
              "        element.innerHTML = '';\n",
              "        dataTable['output_type'] = 'display_data';\n",
              "        await google.colab.output.renderOutput(dataTable, element);\n",
              "        const docLink = document.createElement('div');\n",
              "        docLink.innerHTML = docLinkHtml;\n",
              "        element.appendChild(docLink);\n",
              "      }\n",
              "    </script>\n",
              "  </div>\n",
              "\n",
              "\n",
              "<div id=\"df-3b5be967-6cd8-4c66-bd12-c2ae02deb290\">\n",
              "  <button class=\"colab-df-quickchart\" onclick=\"quickchart('df-3b5be967-6cd8-4c66-bd12-c2ae02deb290')\"\n",
              "            title=\"Suggest charts\"\n",
              "            style=\"display:none;\">\n",
              "\n",
              "<svg xmlns=\"http://www.w3.org/2000/svg\" height=\"24px\"viewBox=\"0 0 24 24\"\n",
              "     width=\"24px\">\n",
              "    <g>\n",
              "        <path d=\"M19 3H5c-1.1 0-2 .9-2 2v14c0 1.1.9 2 2 2h14c1.1 0 2-.9 2-2V5c0-1.1-.9-2-2-2zM9 17H7v-7h2v7zm4 0h-2V7h2v10zm4 0h-2v-4h2v4z\"/>\n",
              "    </g>\n",
              "</svg>\n",
              "  </button>\n",
              "\n",
              "<style>\n",
              "  .colab-df-quickchart {\n",
              "      --bg-color: #E8F0FE;\n",
              "      --fill-color: #1967D2;\n",
              "      --hover-bg-color: #E2EBFA;\n",
              "      --hover-fill-color: #174EA6;\n",
              "      --disabled-fill-color: #AAA;\n",
              "      --disabled-bg-color: #DDD;\n",
              "  }\n",
              "\n",
              "  [theme=dark] .colab-df-quickchart {\n",
              "      --bg-color: #3B4455;\n",
              "      --fill-color: #D2E3FC;\n",
              "      --hover-bg-color: #434B5C;\n",
              "      --hover-fill-color: #FFFFFF;\n",
              "      --disabled-bg-color: #3B4455;\n",
              "      --disabled-fill-color: #666;\n",
              "  }\n",
              "\n",
              "  .colab-df-quickchart {\n",
              "    background-color: var(--bg-color);\n",
              "    border: none;\n",
              "    border-radius: 50%;\n",
              "    cursor: pointer;\n",
              "    display: none;\n",
              "    fill: var(--fill-color);\n",
              "    height: 32px;\n",
              "    padding: 0;\n",
              "    width: 32px;\n",
              "  }\n",
              "\n",
              "  .colab-df-quickchart:hover {\n",
              "    background-color: var(--hover-bg-color);\n",
              "    box-shadow: 0 1px 2px rgba(60, 64, 67, 0.3), 0 1px 3px 1px rgba(60, 64, 67, 0.15);\n",
              "    fill: var(--button-hover-fill-color);\n",
              "  }\n",
              "\n",
              "  .colab-df-quickchart-complete:disabled,\n",
              "  .colab-df-quickchart-complete:disabled:hover {\n",
              "    background-color: var(--disabled-bg-color);\n",
              "    fill: var(--disabled-fill-color);\n",
              "    box-shadow: none;\n",
              "  }\n",
              "\n",
              "  .colab-df-spinner {\n",
              "    border: 2px solid var(--fill-color);\n",
              "    border-color: transparent;\n",
              "    border-bottom-color: var(--fill-color);\n",
              "    animation:\n",
              "      spin 1s steps(1) infinite;\n",
              "  }\n",
              "\n",
              "  @keyframes spin {\n",
              "    0% {\n",
              "      border-color: transparent;\n",
              "      border-bottom-color: var(--fill-color);\n",
              "      border-left-color: var(--fill-color);\n",
              "    }\n",
              "    20% {\n",
              "      border-color: transparent;\n",
              "      border-left-color: var(--fill-color);\n",
              "      border-top-color: var(--fill-color);\n",
              "    }\n",
              "    30% {\n",
              "      border-color: transparent;\n",
              "      border-left-color: var(--fill-color);\n",
              "      border-top-color: var(--fill-color);\n",
              "      border-right-color: var(--fill-color);\n",
              "    }\n",
              "    40% {\n",
              "      border-color: transparent;\n",
              "      border-right-color: var(--fill-color);\n",
              "      border-top-color: var(--fill-color);\n",
              "    }\n",
              "    60% {\n",
              "      border-color: transparent;\n",
              "      border-right-color: var(--fill-color);\n",
              "    }\n",
              "    80% {\n",
              "      border-color: transparent;\n",
              "      border-right-color: var(--fill-color);\n",
              "      border-bottom-color: var(--fill-color);\n",
              "    }\n",
              "    90% {\n",
              "      border-color: transparent;\n",
              "      border-bottom-color: var(--fill-color);\n",
              "    }\n",
              "  }\n",
              "</style>\n",
              "\n",
              "  <script>\n",
              "    async function quickchart(key) {\n",
              "      const quickchartButtonEl =\n",
              "        document.querySelector('#' + key + ' button');\n",
              "      quickchartButtonEl.disabled = true;  // To prevent multiple clicks.\n",
              "      quickchartButtonEl.classList.add('colab-df-spinner');\n",
              "      try {\n",
              "        const charts = await google.colab.kernel.invokeFunction(\n",
              "            'suggestCharts', [key], {});\n",
              "      } catch (error) {\n",
              "        console.error('Error during call to suggestCharts:', error);\n",
              "      }\n",
              "      quickchartButtonEl.classList.remove('colab-df-spinner');\n",
              "      quickchartButtonEl.classList.add('colab-df-quickchart-complete');\n",
              "    }\n",
              "    (() => {\n",
              "      let quickchartButtonEl =\n",
              "        document.querySelector('#df-3b5be967-6cd8-4c66-bd12-c2ae02deb290 button');\n",
              "      quickchartButtonEl.style.display =\n",
              "        google.colab.kernel.accessAllowed ? 'block' : 'none';\n",
              "    })();\n",
              "  </script>\n",
              "</div>\n",
              "\n",
              "    </div>\n",
              "  </div>\n"
            ],
            "application/vnd.google.colaboratory.intrinsic+json": {
              "type": "dataframe",
              "variable_name": "df",
              "summary": "{\n  \"name\": \"df\",\n  \"rows\": 10,\n  \"fields\": [\n    {\n      \"column\": \"Estudiante\",\n      \"properties\": {\n        \"dtype\": \"string\",\n        \"num_unique_values\": 10,\n        \"samples\": [\n          \"Sonia\",\n          \"Pepe\",\n          \"Anabel\"\n        ],\n        \"semantic_type\": \"\",\n        \"description\": \"\"\n      }\n    },\n    {\n      \"column\": \"Sexo\",\n      \"properties\": {\n        \"dtype\": \"category\",\n        \"num_unique_values\": 2,\n        \"samples\": [\n          \"Masculino\",\n          \"Femenino\"\n        ],\n        \"semantic_type\": \"\",\n        \"description\": \"\"\n      }\n    },\n    {\n      \"column\": \"Centro\",\n      \"properties\": {\n        \"dtype\": \"category\",\n        \"num_unique_values\": 4,\n        \"samples\": [\n          \"Copilco\",\n          \"MAC\"\n        ],\n        \"semantic_type\": \"\",\n        \"description\": \"\"\n      }\n    },\n    {\n      \"column\": \"Edad\",\n      \"properties\": {\n        \"dtype\": \"number\",\n        \"std\": 1,\n        \"min\": 18,\n        \"max\": 22,\n        \"num_unique_values\": 5,\n        \"samples\": [\n          19,\n          22\n        ],\n        \"semantic_type\": \"\",\n        \"description\": \"\"\n      }\n    },\n    {\n      \"column\": \"Semestre\",\n      \"properties\": {\n        \"dtype\": \"number\",\n        \"std\": 0,\n        \"min\": 5,\n        \"max\": 7,\n        \"num_unique_values\": 3,\n        \"samples\": [\n          5,\n          6\n        ],\n        \"semantic_type\": \"\",\n        \"description\": \"\"\n      }\n    },\n    {\n      \"column\": \"Calculo\",\n      \"properties\": {\n        \"dtype\": \"number\",\n        \"std\": 1.456784892227477,\n        \"min\": 6.0,\n        \"max\": 9.7,\n        \"num_unique_values\": 9,\n        \"samples\": [\n          9.7,\n          7.4\n        ],\n        \"semantic_type\": \"\",\n        \"description\": \"\"\n      }\n    },\n    {\n      \"column\": \"Estadistica\",\n      \"properties\": {\n        \"dtype\": \"number\",\n        \"std\": 0.9202052911050759,\n        \"min\": 6.5,\n        \"max\": 9.5,\n        \"num_unique_values\": 9,\n        \"samples\": [\n          7.5,\n          7.3\n        ],\n        \"semantic_type\": \"\",\n        \"description\": \"\"\n      }\n    },\n    {\n      \"column\": \"Ingles\",\n      \"properties\": {\n        \"dtype\": \"number\",\n        \"std\": 1.1215069227507148,\n        \"min\": 5.5,\n        \"max\": 9.0,\n        \"num_unique_values\": 6,\n        \"samples\": [\n          8.6,\n          9.0\n        ],\n        \"semantic_type\": \"\",\n        \"description\": \"\"\n      }\n    },\n    {\n      \"column\": \"IA\",\n      \"properties\": {\n        \"dtype\": \"number\",\n        \"std\": 1.0368756488176925,\n        \"min\": 6.0,\n        \"max\": 9.0,\n        \"num_unique_values\": 9,\n        \"samples\": [\n          6.0,\n          7.0\n        ],\n        \"semantic_type\": \"\",\n        \"description\": \"\"\n      }\n    }\n  ]\n}"
            }
          },
          "metadata": {},
          "execution_count": 1
        }
      ],
      "source": [
        "import pandas as pd\n",
        "df = pd.read_csv(\"/content/Alumnos_Examen - Alumnos_Examen.csv\")\n",
        "df.head()"
      ]
    },
    {
      "cell_type": "markdown",
      "source": [
        "Sexo, Edad y calificación en inglés de todos los alumnos"
      ],
      "metadata": {
        "id": "p9PxMZXyisrE"
      }
    },
    {
      "source": [
        "import pandas as pd\n",
        "\n",
        "df = pd.read_csv(\"/content/Alumnos_Examen - Alumnos_Examen.csv\")\n",
        "df.head()\n",
        "\n",
        "sexo_edad_ingles = df[['Sexo', 'Edad', 'Ingles']]\n",
        "print(sexo_edad_ingles)"
      ],
      "cell_type": "code",
      "metadata": {
        "colab": {
          "base_uri": "https://localhost:8080/"
        },
        "id": "RS-UcewIdBnm",
        "outputId": "30fd8a26-0656-488d-a303-020d7bb0efb4"
      },
      "execution_count": 3,
      "outputs": [
        {
          "output_type": "stream",
          "name": "stdout",
          "text": [
            "        Sexo  Edad  Ingles\n",
            "0   Femenino    18     8.6\n",
            "1  Masculino    19     9.0\n",
            "2   Femenino    20     8.0\n",
            "3  Masculino    20     7.0\n",
            "4  Masculino    21     8.9\n",
            "5   Femenino    19     8.0\n",
            "6  Masculino    22     9.0\n",
            "7  Masculino    21     8.0\n",
            "8   Femenino    20     5.5\n",
            "9   Femenino    19     9.0\n"
          ]
        }
      ]
    },
    {
      "cell_type": "markdown",
      "source": [
        "- Las calificaciones de todas las materias de los alumnos Pepe, Luis y Martha"
      ],
      "metadata": {
        "id": "yO6ZoDwpixlr"
      }
    },
    {
      "source": [
        "import pandas as pd\n",
        "\n",
        "df = pd.read_csv(\"/content/Alumnos_Examen - Alumnos_Examen.csv\")\n",
        "\n",
        "calificaciones_pepe_luis_martha = df[df['Estudiante'].isin(['Pepe', 'Luis', 'Martha'])]\n",
        "print(calificaciones_pepe_luis_martha)"
      ],
      "cell_type": "code",
      "metadata": {
        "colab": {
          "base_uri": "https://localhost:8080/"
        },
        "id": "voYLHUK7dJAW",
        "outputId": "15c5ae23-5150-4cf4-9ebe-e2bdc00c7e35"
      },
      "execution_count": 5,
      "outputs": [
        {
          "output_type": "stream",
          "name": "stdout",
          "text": [
            "  Estudiante       Sexo   Centro  Edad  Semestre  Calculo  Estadistica  \\\n",
            "1       Pepe  Masculino  Copilco    19         6      7.4          7.3   \n",
            "3       Luis  Masculino      MAC    20         7      6.5          6.5   \n",
            "9     Martha   Femenino      GAM    19         6      7.2          8.7   \n",
            "\n",
            "   Ingles   IA  \n",
            "1     9.0  7.0  \n",
            "3     7.0  9.0  \n",
            "9     9.0  7.0  \n"
          ]
        }
      ]
    },
    {
      "cell_type": "markdown",
      "source": [
        "Centro y edad de los alumnos del sexo femenino"
      ],
      "metadata": {
        "id": "MbQSLksMi1wg"
      }
    },
    {
      "source": [
        "import pandas as pd\n",
        "\n",
        "df = pd.read_csv(\"/content/Alumnos_Examen - Alumnos_Examen.csv\")\n",
        "\n",
        "centro_edad_femenino = df[df['Sexo'] == 'Femenino'][['Centro', 'Edad']]\n",
        "print(centro_edad_femenino)"
      ],
      "cell_type": "code",
      "metadata": {
        "colab": {
          "base_uri": "https://localhost:8080/"
        },
        "id": "y0wPb1YfdeQ3",
        "outputId": "4fafc47a-dda2-493f-cd37-654ad95e26f3"
      },
      "execution_count": 7,
      "outputs": [
        {
          "output_type": "stream",
          "name": "stdout",
          "text": [
            "     Centro  Edad\n",
            "0       GAM    18\n",
            "2  Coyoacán    20\n",
            "5  Coyoacán    19\n",
            "8  Coyoacán    20\n",
            "9       GAM    19\n"
          ]
        }
      ]
    },
    {
      "cell_type": "markdown",
      "source": [
        "Semestre, calificaciones de cálculo e IA de los alumnos del sexo masculino"
      ],
      "metadata": {
        "id": "cQQltO7Ki5gv"
      }
    },
    {
      "source": [
        "import pandas as pd\n",
        "\n",
        "df = pd.read_csv(\"/content/Alumnos_Examen - Alumnos_Examen.csv\")\n",
        "semestre_calculo_ia_masculino = df[df['Sexo'] == 'Masculino'][['Semestre', 'Calculo', 'IA']]\n",
        "print(semestre_calculo_ia_masculino)"
      ],
      "cell_type": "code",
      "metadata": {
        "colab": {
          "base_uri": "https://localhost:8080/"
        },
        "id": "fmvehgkRdnP-",
        "outputId": "cdb6f1bc-daae-4f68-b60a-22632a9ae029"
      },
      "execution_count": 9,
      "outputs": [
        {
          "output_type": "stream",
          "name": "stdout",
          "text": [
            "   Semestre  Calculo   IA\n",
            "1         6      7.4  7.0\n",
            "3         7      6.5  9.0\n",
            "4         5      6.0  8.6\n",
            "6         6      6.4  7.2\n",
            "7         7      9.7  6.0\n"
          ]
        }
      ]
    },
    {
      "cell_type": "markdown",
      "source": [
        "Alumnos que estudian en los centros Coyoacán y MAC"
      ],
      "metadata": {
        "id": "X2PBbY8Bi9yA"
      }
    },
    {
      "source": [
        "import pandas as pd\n",
        "\n",
        "df = pd.read_csv(\"/content/Alumnos_Examen - Alumnos_Examen.csv\")\n",
        "alumnos_coyoacan_mac = df[df['Centro'].isin(['Coyoacán', 'MAC'])]\n",
        "print(alumnos_coyoacan_mac)"
      ],
      "cell_type": "code",
      "metadata": {
        "colab": {
          "base_uri": "https://localhost:8080/"
        },
        "id": "ppBkAXENdrgl",
        "outputId": "90dd309a-7896-4d3f-fc2c-75b343d0be08"
      },
      "execution_count": 11,
      "outputs": [
        {
          "output_type": "stream",
          "name": "stdout",
          "text": [
            "  Estudiante       Sexo    Centro  Edad  Semestre  Calculo  Estadistica  \\\n",
            "2       Ines   Femenino  Coyoacán    20         7      9.2          8.0   \n",
            "3       Luis  Masculino       MAC    20         7      6.5          6.5   \n",
            "5     Anabel   Femenino  Coyoacán    19         7      9.6          7.7   \n",
            "6     Carlos  Masculino       MAC    22         6      6.4          8.2   \n",
            "8      Sonia   Femenino  Coyoacán    20         5      6.0          6.5   \n",
            "\n",
            "   Ingles   IA  \n",
            "2     8.0  7.5  \n",
            "3     7.0  9.0  \n",
            "5     8.0  6.2  \n",
            "6     9.0  7.2  \n",
            "8     5.5  8.7  \n"
          ]
        }
      ]
    },
    {
      "cell_type": "markdown",
      "source": [
        " Alumnos que estudian en centro GAM y son mayores a 20 años"
      ],
      "metadata": {
        "id": "4n0MBq-3jCfU"
      }
    },
    {
      "source": [
        "import pandas as pd\n",
        "\n",
        "df = pd.read_csv(\"/content/Alumnos_Examen - Alumnos_Examen.csv\")\n",
        "alumnos_gam_mayores_20 = df[(df['Centro'] == 'GAM') & (df['Edad'] > 20)]\n",
        "print(alumnos_gam_mayores_20)"
      ],
      "cell_type": "code",
      "metadata": {
        "colab": {
          "base_uri": "https://localhost:8080/"
        },
        "id": "VY2Wtwtgl7JN",
        "outputId": "cade48e9-4003-4b5d-f255-aef062a2de96"
      },
      "execution_count": 40,
      "outputs": [
        {
          "output_type": "stream",
          "name": "stdout",
          "text": [
            "  Estudiante       Sexo Centro  Edad  Semestre  Calculo  Estadistica  Ingles  \\\n",
            "4      Pedro  Masculino    GAM    21         5      6.0          7.8     8.9   \n",
            "\n",
            "    IA  \n",
            "4  8.6  \n"
          ]
        }
      ]
    },
    {
      "cell_type": "markdown",
      "source": [
        "- Alumnos cuya calificación en inglés es mayor a 8"
      ],
      "metadata": {
        "id": "mx1iDGJEjFf0"
      }
    },
    {
      "source": [
        "import pandas as pd\n",
        "\n",
        "df = pd.read_csv(\"/content/Alumnos_Examen - Alumnos_Examen.csv\")\n",
        "alumnos_ingles_mayor_8 = df[df['Ingles'] > 8]\n",
        "print(alumnos_ingles_mayor_8)"
      ],
      "cell_type": "code",
      "metadata": {
        "colab": {
          "base_uri": "https://localhost:8080/"
        },
        "id": "wnM9qXvDktiz",
        "outputId": "6e11321a-7cce-4234-8cd3-3302697dbd5e"
      },
      "execution_count": 34,
      "outputs": [
        {
          "output_type": "stream",
          "name": "stdout",
          "text": [
            "  Estudiante       Sexo   Centro  Edad  Semestre  Calculo  Estadistica  \\\n",
            "0        Ana   Femenino      GAM    18         5      8.0          9.5   \n",
            "1       Pepe  Masculino  Copilco    19         6      7.4          7.3   \n",
            "4      Pedro  Masculino      GAM    21         5      6.0          7.8   \n",
            "6     Carlos  Masculino      MAC    22         6      6.4          8.2   \n",
            "9     Martha   Femenino      GAM    19         6      7.2          8.7   \n",
            "\n",
            "   Ingles   IA  \n",
            "0     8.6  8.0  \n",
            "1     9.0  7.0  \n",
            "4     8.9  8.6  \n",
            "6     9.0  7.2  \n",
            "9     9.0  7.0  \n"
          ]
        }
      ]
    },
    {
      "cell_type": "markdown",
      "source": [
        "Alumnos del sexo femenino que sean mayores a 20 años"
      ],
      "metadata": {
        "id": "ikJ0dz5ujRYD"
      }
    },
    {
      "source": [
        "import pandas as pd\n",
        "\n",
        "df = pd.read_csv(\"/content/Alumnos_Examen - Alumnos_Examen.csv\")\n",
        "femenino_mayores_20 = df[(df['Sexo'] == 'Femenino') & (df['Edad'] > 20)]\n",
        "print(femenino_mayores_20)"
      ],
      "cell_type": "code",
      "metadata": {
        "colab": {
          "base_uri": "https://localhost:8080/"
        },
        "id": "XaE2PgjqdzP2",
        "outputId": "9294c0ce-ae04-4757-d9c6-d8f45669602e"
      },
      "execution_count": 15,
      "outputs": [
        {
          "output_type": "stream",
          "name": "stdout",
          "text": [
            "Empty DataFrame\n",
            "Columns: [Estudiante, Sexo, Centro, Edad, Semestre, Calculo, Estadistica, Ingles, IA]\n",
            "Index: []\n"
          ]
        }
      ]
    },
    {
      "cell_type": "markdown",
      "source": [
        "**PARTE 2 EXAMEN NBA**"
      ],
      "metadata": {
        "id": "i0A9mzhXfYl1"
      }
    },
    {
      "cell_type": "code",
      "source": [
        "import pandas as pd\n",
        "df = pd.read_csv(\"/content/nba - nba (1).csv\")\n",
        "df.head()"
      ],
      "metadata": {
        "colab": {
          "base_uri": "https://localhost:8080/",
          "height": 206
        },
        "id": "wRKr_vCQd68n",
        "outputId": "874157e4-f0da-4445-c236-a4fd65feff23"
      },
      "execution_count": 16,
      "outputs": [
        {
          "output_type": "execute_result",
          "data": {
            "text/plain": [
              "            Name            Team  Number Position  Age Height  Weight  \\\n",
              "0  Avery Bradley  Boston Celtics       0       PG   25    6-2     180   \n",
              "1    Jae Crowder  Boston Celtics      99       SF   25    6-6     235   \n",
              "2   John Holland  Boston Celtics      30       SG   27    6-5     205   \n",
              "3    R.J. Hunter  Boston Celtics      28       SG   22    6-5     185   \n",
              "4  Jonas Jerebko  Boston Celtics       8       PF   29   6-10     231   \n",
              "\n",
              "             College     Salary  \n",
              "0              Texas  7730337.0  \n",
              "1          Marquette  6796117.0  \n",
              "2  Boston University        NaN  \n",
              "3      Georgia State  1148640.0  \n",
              "4                NaN  5000000.0  "
            ],
            "text/html": [
              "\n",
              "  <div id=\"df-9fa3f075-26ba-48bc-9171-d6f0f1f186db\" class=\"colab-df-container\">\n",
              "    <div>\n",
              "<style scoped>\n",
              "    .dataframe tbody tr th:only-of-type {\n",
              "        vertical-align: middle;\n",
              "    }\n",
              "\n",
              "    .dataframe tbody tr th {\n",
              "        vertical-align: top;\n",
              "    }\n",
              "\n",
              "    .dataframe thead th {\n",
              "        text-align: right;\n",
              "    }\n",
              "</style>\n",
              "<table border=\"1\" class=\"dataframe\">\n",
              "  <thead>\n",
              "    <tr style=\"text-align: right;\">\n",
              "      <th></th>\n",
              "      <th>Name</th>\n",
              "      <th>Team</th>\n",
              "      <th>Number</th>\n",
              "      <th>Position</th>\n",
              "      <th>Age</th>\n",
              "      <th>Height</th>\n",
              "      <th>Weight</th>\n",
              "      <th>College</th>\n",
              "      <th>Salary</th>\n",
              "    </tr>\n",
              "  </thead>\n",
              "  <tbody>\n",
              "    <tr>\n",
              "      <th>0</th>\n",
              "      <td>Avery Bradley</td>\n",
              "      <td>Boston Celtics</td>\n",
              "      <td>0</td>\n",
              "      <td>PG</td>\n",
              "      <td>25</td>\n",
              "      <td>6-2</td>\n",
              "      <td>180</td>\n",
              "      <td>Texas</td>\n",
              "      <td>7730337.0</td>\n",
              "    </tr>\n",
              "    <tr>\n",
              "      <th>1</th>\n",
              "      <td>Jae Crowder</td>\n",
              "      <td>Boston Celtics</td>\n",
              "      <td>99</td>\n",
              "      <td>SF</td>\n",
              "      <td>25</td>\n",
              "      <td>6-6</td>\n",
              "      <td>235</td>\n",
              "      <td>Marquette</td>\n",
              "      <td>6796117.0</td>\n",
              "    </tr>\n",
              "    <tr>\n",
              "      <th>2</th>\n",
              "      <td>John Holland</td>\n",
              "      <td>Boston Celtics</td>\n",
              "      <td>30</td>\n",
              "      <td>SG</td>\n",
              "      <td>27</td>\n",
              "      <td>6-5</td>\n",
              "      <td>205</td>\n",
              "      <td>Boston University</td>\n",
              "      <td>NaN</td>\n",
              "    </tr>\n",
              "    <tr>\n",
              "      <th>3</th>\n",
              "      <td>R.J. Hunter</td>\n",
              "      <td>Boston Celtics</td>\n",
              "      <td>28</td>\n",
              "      <td>SG</td>\n",
              "      <td>22</td>\n",
              "      <td>6-5</td>\n",
              "      <td>185</td>\n",
              "      <td>Georgia State</td>\n",
              "      <td>1148640.0</td>\n",
              "    </tr>\n",
              "    <tr>\n",
              "      <th>4</th>\n",
              "      <td>Jonas Jerebko</td>\n",
              "      <td>Boston Celtics</td>\n",
              "      <td>8</td>\n",
              "      <td>PF</td>\n",
              "      <td>29</td>\n",
              "      <td>6-10</td>\n",
              "      <td>231</td>\n",
              "      <td>NaN</td>\n",
              "      <td>5000000.0</td>\n",
              "    </tr>\n",
              "  </tbody>\n",
              "</table>\n",
              "</div>\n",
              "    <div class=\"colab-df-buttons\">\n",
              "\n",
              "  <div class=\"colab-df-container\">\n",
              "    <button class=\"colab-df-convert\" onclick=\"convertToInteractive('df-9fa3f075-26ba-48bc-9171-d6f0f1f186db')\"\n",
              "            title=\"Convert this dataframe to an interactive table.\"\n",
              "            style=\"display:none;\">\n",
              "\n",
              "  <svg xmlns=\"http://www.w3.org/2000/svg\" height=\"24px\" viewBox=\"0 -960 960 960\">\n",
              "    <path d=\"M120-120v-720h720v720H120Zm60-500h600v-160H180v160Zm220 220h160v-160H400v160Zm0 220h160v-160H400v160ZM180-400h160v-160H180v160Zm440 0h160v-160H620v160ZM180-180h160v-160H180v160Zm440 0h160v-160H620v160Z\"/>\n",
              "  </svg>\n",
              "    </button>\n",
              "\n",
              "  <style>\n",
              "    .colab-df-container {\n",
              "      display:flex;\n",
              "      gap: 12px;\n",
              "    }\n",
              "\n",
              "    .colab-df-convert {\n",
              "      background-color: #E8F0FE;\n",
              "      border: none;\n",
              "      border-radius: 50%;\n",
              "      cursor: pointer;\n",
              "      display: none;\n",
              "      fill: #1967D2;\n",
              "      height: 32px;\n",
              "      padding: 0 0 0 0;\n",
              "      width: 32px;\n",
              "    }\n",
              "\n",
              "    .colab-df-convert:hover {\n",
              "      background-color: #E2EBFA;\n",
              "      box-shadow: 0px 1px 2px rgba(60, 64, 67, 0.3), 0px 1px 3px 1px rgba(60, 64, 67, 0.15);\n",
              "      fill: #174EA6;\n",
              "    }\n",
              "\n",
              "    .colab-df-buttons div {\n",
              "      margin-bottom: 4px;\n",
              "    }\n",
              "\n",
              "    [theme=dark] .colab-df-convert {\n",
              "      background-color: #3B4455;\n",
              "      fill: #D2E3FC;\n",
              "    }\n",
              "\n",
              "    [theme=dark] .colab-df-convert:hover {\n",
              "      background-color: #434B5C;\n",
              "      box-shadow: 0px 1px 3px 1px rgba(0, 0, 0, 0.15);\n",
              "      filter: drop-shadow(0px 1px 2px rgba(0, 0, 0, 0.3));\n",
              "      fill: #FFFFFF;\n",
              "    }\n",
              "  </style>\n",
              "\n",
              "    <script>\n",
              "      const buttonEl =\n",
              "        document.querySelector('#df-9fa3f075-26ba-48bc-9171-d6f0f1f186db button.colab-df-convert');\n",
              "      buttonEl.style.display =\n",
              "        google.colab.kernel.accessAllowed ? 'block' : 'none';\n",
              "\n",
              "      async function convertToInteractive(key) {\n",
              "        const element = document.querySelector('#df-9fa3f075-26ba-48bc-9171-d6f0f1f186db');\n",
              "        const dataTable =\n",
              "          await google.colab.kernel.invokeFunction('convertToInteractive',\n",
              "                                                    [key], {});\n",
              "        if (!dataTable) return;\n",
              "\n",
              "        const docLinkHtml = 'Like what you see? Visit the ' +\n",
              "          '<a target=\"_blank\" href=https://colab.research.google.com/notebooks/data_table.ipynb>data table notebook</a>'\n",
              "          + ' to learn more about interactive tables.';\n",
              "        element.innerHTML = '';\n",
              "        dataTable['output_type'] = 'display_data';\n",
              "        await google.colab.output.renderOutput(dataTable, element);\n",
              "        const docLink = document.createElement('div');\n",
              "        docLink.innerHTML = docLinkHtml;\n",
              "        element.appendChild(docLink);\n",
              "      }\n",
              "    </script>\n",
              "  </div>\n",
              "\n",
              "\n",
              "<div id=\"df-c1301ea8-9600-415e-9f2a-0e85ac580a39\">\n",
              "  <button class=\"colab-df-quickchart\" onclick=\"quickchart('df-c1301ea8-9600-415e-9f2a-0e85ac580a39')\"\n",
              "            title=\"Suggest charts\"\n",
              "            style=\"display:none;\">\n",
              "\n",
              "<svg xmlns=\"http://www.w3.org/2000/svg\" height=\"24px\"viewBox=\"0 0 24 24\"\n",
              "     width=\"24px\">\n",
              "    <g>\n",
              "        <path d=\"M19 3H5c-1.1 0-2 .9-2 2v14c0 1.1.9 2 2 2h14c1.1 0 2-.9 2-2V5c0-1.1-.9-2-2-2zM9 17H7v-7h2v7zm4 0h-2V7h2v10zm4 0h-2v-4h2v4z\"/>\n",
              "    </g>\n",
              "</svg>\n",
              "  </button>\n",
              "\n",
              "<style>\n",
              "  .colab-df-quickchart {\n",
              "      --bg-color: #E8F0FE;\n",
              "      --fill-color: #1967D2;\n",
              "      --hover-bg-color: #E2EBFA;\n",
              "      --hover-fill-color: #174EA6;\n",
              "      --disabled-fill-color: #AAA;\n",
              "      --disabled-bg-color: #DDD;\n",
              "  }\n",
              "\n",
              "  [theme=dark] .colab-df-quickchart {\n",
              "      --bg-color: #3B4455;\n",
              "      --fill-color: #D2E3FC;\n",
              "      --hover-bg-color: #434B5C;\n",
              "      --hover-fill-color: #FFFFFF;\n",
              "      --disabled-bg-color: #3B4455;\n",
              "      --disabled-fill-color: #666;\n",
              "  }\n",
              "\n",
              "  .colab-df-quickchart {\n",
              "    background-color: var(--bg-color);\n",
              "    border: none;\n",
              "    border-radius: 50%;\n",
              "    cursor: pointer;\n",
              "    display: none;\n",
              "    fill: var(--fill-color);\n",
              "    height: 32px;\n",
              "    padding: 0;\n",
              "    width: 32px;\n",
              "  }\n",
              "\n",
              "  .colab-df-quickchart:hover {\n",
              "    background-color: var(--hover-bg-color);\n",
              "    box-shadow: 0 1px 2px rgba(60, 64, 67, 0.3), 0 1px 3px 1px rgba(60, 64, 67, 0.15);\n",
              "    fill: var(--button-hover-fill-color);\n",
              "  }\n",
              "\n",
              "  .colab-df-quickchart-complete:disabled,\n",
              "  .colab-df-quickchart-complete:disabled:hover {\n",
              "    background-color: var(--disabled-bg-color);\n",
              "    fill: var(--disabled-fill-color);\n",
              "    box-shadow: none;\n",
              "  }\n",
              "\n",
              "  .colab-df-spinner {\n",
              "    border: 2px solid var(--fill-color);\n",
              "    border-color: transparent;\n",
              "    border-bottom-color: var(--fill-color);\n",
              "    animation:\n",
              "      spin 1s steps(1) infinite;\n",
              "  }\n",
              "\n",
              "  @keyframes spin {\n",
              "    0% {\n",
              "      border-color: transparent;\n",
              "      border-bottom-color: var(--fill-color);\n",
              "      border-left-color: var(--fill-color);\n",
              "    }\n",
              "    20% {\n",
              "      border-color: transparent;\n",
              "      border-left-color: var(--fill-color);\n",
              "      border-top-color: var(--fill-color);\n",
              "    }\n",
              "    30% {\n",
              "      border-color: transparent;\n",
              "      border-left-color: var(--fill-color);\n",
              "      border-top-color: var(--fill-color);\n",
              "      border-right-color: var(--fill-color);\n",
              "    }\n",
              "    40% {\n",
              "      border-color: transparent;\n",
              "      border-right-color: var(--fill-color);\n",
              "      border-top-color: var(--fill-color);\n",
              "    }\n",
              "    60% {\n",
              "      border-color: transparent;\n",
              "      border-right-color: var(--fill-color);\n",
              "    }\n",
              "    80% {\n",
              "      border-color: transparent;\n",
              "      border-right-color: var(--fill-color);\n",
              "      border-bottom-color: var(--fill-color);\n",
              "    }\n",
              "    90% {\n",
              "      border-color: transparent;\n",
              "      border-bottom-color: var(--fill-color);\n",
              "    }\n",
              "  }\n",
              "</style>\n",
              "\n",
              "  <script>\n",
              "    async function quickchart(key) {\n",
              "      const quickchartButtonEl =\n",
              "        document.querySelector('#' + key + ' button');\n",
              "      quickchartButtonEl.disabled = true;  // To prevent multiple clicks.\n",
              "      quickchartButtonEl.classList.add('colab-df-spinner');\n",
              "      try {\n",
              "        const charts = await google.colab.kernel.invokeFunction(\n",
              "            'suggestCharts', [key], {});\n",
              "      } catch (error) {\n",
              "        console.error('Error during call to suggestCharts:', error);\n",
              "      }\n",
              "      quickchartButtonEl.classList.remove('colab-df-spinner');\n",
              "      quickchartButtonEl.classList.add('colab-df-quickchart-complete');\n",
              "    }\n",
              "    (() => {\n",
              "      let quickchartButtonEl =\n",
              "        document.querySelector('#df-c1301ea8-9600-415e-9f2a-0e85ac580a39 button');\n",
              "      quickchartButtonEl.style.display =\n",
              "        google.colab.kernel.accessAllowed ? 'block' : 'none';\n",
              "    })();\n",
              "  </script>\n",
              "</div>\n",
              "\n",
              "    </div>\n",
              "  </div>\n"
            ],
            "application/vnd.google.colaboratory.intrinsic+json": {
              "type": "dataframe",
              "variable_name": "df",
              "summary": "{\n  \"name\": \"df\",\n  \"rows\": 457,\n  \"fields\": [\n    {\n      \"column\": \"Name\",\n      \"properties\": {\n        \"dtype\": \"string\",\n        \"num_unique_values\": 457,\n        \"samples\": [\n          \"Andre Miller\",\n          \"Kyle O'Quinn\",\n          \"Goran Dragic\"\n        ],\n        \"semantic_type\": \"\",\n        \"description\": \"\"\n      }\n    },\n    {\n      \"column\": \"Team\",\n      \"properties\": {\n        \"dtype\": \"category\",\n        \"num_unique_values\": 30,\n        \"samples\": [\n          \"Oklahoma City Thunder\",\n          \"Dallas Mavericks\",\n          \"Orlando Magic\"\n        ],\n        \"semantic_type\": \"\",\n        \"description\": \"\"\n      }\n    },\n    {\n      \"column\": \"Number\",\n      \"properties\": {\n        \"dtype\": \"number\",\n        \"std\": 15,\n        \"min\": 0,\n        \"max\": 99,\n        \"num_unique_values\": 53,\n        \"samples\": [\n          10,\n          34,\n          26\n        ],\n        \"semantic_type\": \"\",\n        \"description\": \"\"\n      }\n    },\n    {\n      \"column\": \"Position\",\n      \"properties\": {\n        \"dtype\": \"category\",\n        \"num_unique_values\": 5,\n        \"samples\": [\n          \"SF\",\n          \"C\",\n          \"SG\"\n        ],\n        \"semantic_type\": \"\",\n        \"description\": \"\"\n      }\n    },\n    {\n      \"column\": \"Age\",\n      \"properties\": {\n        \"dtype\": \"number\",\n        \"std\": 4,\n        \"min\": 19,\n        \"max\": 40,\n        \"num_unique_values\": 22,\n        \"samples\": [\n          25,\n          34,\n          28\n        ],\n        \"semantic_type\": \"\",\n        \"description\": \"\"\n      }\n    },\n    {\n      \"column\": \"Height\",\n      \"properties\": {\n        \"dtype\": \"category\",\n        \"num_unique_values\": 18,\n        \"samples\": [\n          \"6-2\",\n          \"6-6\",\n          \"5-9\"\n        ],\n        \"semantic_type\": \"\",\n        \"description\": \"\"\n      }\n    },\n    {\n      \"column\": \"Weight\",\n      \"properties\": {\n        \"dtype\": \"number\",\n        \"std\": 26,\n        \"min\": 161,\n        \"max\": 307,\n        \"num_unique_values\": 87,\n        \"samples\": [\n          169,\n          180,\n          254\n        ],\n        \"semantic_type\": \"\",\n        \"description\": \"\"\n      }\n    },\n    {\n      \"column\": \"College\",\n      \"properties\": {\n        \"dtype\": \"category\",\n        \"num_unique_values\": 118,\n        \"samples\": [\n          \"Connecticut\",\n          \"Florida State\",\n          \"LSU\"\n        ],\n        \"semantic_type\": \"\",\n        \"description\": \"\"\n      }\n    },\n    {\n      \"column\": \"Salary\",\n      \"properties\": {\n        \"dtype\": \"number\",\n        \"std\": 5229237.598910348,\n        \"min\": 30888.0,\n        \"max\": 25000000.0,\n        \"num_unique_values\": 309,\n        \"samples\": [\n          625093.0,\n          2569260.0,\n          245177.0\n        ],\n        \"semantic_type\": \"\",\n        \"description\": \"\"\n      }\n    }\n  ]\n}"
            }
          },
          "metadata": {},
          "execution_count": 16
        }
      ]
    },
    {
      "cell_type": "markdown",
      "source": [
        "Obtener los registros Null en Salary"
      ],
      "metadata": {
        "id": "8TblqegXmq32"
      }
    },
    {
      "cell_type": "code",
      "source": [
        "null_salary = data_nba[data_nba['Salary'].isnull()]\n",
        "print(null_salary)\n"
      ],
      "metadata": {
        "colab": {
          "base_uri": "https://localhost:8080/"
        },
        "id": "h4Lq1w5qm1SA",
        "outputId": "60c987f7-07e4-46a1-efdd-2f50f1f12fa8"
      },
      "execution_count": 41,
      "outputs": [
        {
          "output_type": "stream",
          "name": "stdout",
          "text": [
            "               Name                    Team  Number Position  Age Height  \\\n",
            "2      John Holland          Boston Celtics      30       SG   27    6-5   \n",
            "46      Elton Brand      Philadelphia 76ers      42       PF   37    6-9   \n",
            "171   Dahntay Jones     Cleveland Cavaliers      30       SG   35    6-6   \n",
            "264   Jordan Farmar       Memphis Grizzlies       4       PG   29    6-2   \n",
            "269    Ray McCallum       Memphis Grizzlies       5       PG   24    6-3   \n",
            "270  Xavier Munford       Memphis Grizzlies      14       PG   24    6-3   \n",
            "273  Alex Stepheson       Memphis Grizzlies      35       PF   28   6-10   \n",
            "350   Briante Weber              Miami Heat      12       PG   23    6-2   \n",
            "353   Dorell Wright              Miami Heat      11       SF   30    6-9   \n",
            "397    Axel Toupane          Denver Nuggets       6       SG   23    6-7   \n",
            "409      Greg Smith  Minnesota Timberwolves       4       PF   25   6-10   \n",
            "\n",
            "     Weight                College  Salary  Height_inches  \n",
            "2       205      Boston University     NaN             77  \n",
            "46      254                   Duke     NaN             81  \n",
            "171     225                   Duke     NaN             78  \n",
            "264     180                   UCLA     NaN             74  \n",
            "269     190                Detroit     NaN             75  \n",
            "270     180           Rhode Island     NaN             75  \n",
            "273     270                    USC     NaN             82  \n",
            "350     165  Virginia Commonwealth     NaN             74  \n",
            "353     205                    NaN     NaN             81  \n",
            "397     210                    NaN     NaN             79  \n",
            "409     250           Fresno State     NaN             82  \n"
          ]
        }
      ]
    },
    {
      "cell_type": "markdown",
      "source": [
        "Obtener:\n",
        "Promedio de edad de los jugadores\n",
        "Edad del jugador mas joven\n",
        "Edad del jugador más veterano\n",
        "promedio de salario de los jugadores\n",
        "salario más bajo de los jugadores\n",
        "salario más alto de los jugadores"
      ],
      "metadata": {
        "id": "YBFnCilPnDGu"
      }
    },
    {
      "cell_type": "code",
      "source": [
        "promedio_edad = df['Age'].mean()\n",
        "edad_jugador_joven = df['Age'].min()\n",
        "edad_jugador_veterano = df['Age'].max()\n",
        "promedio_salario = df['Salary'].mean()\n",
        "salario_mas_bajo = df['Salary'].min()\n",
        "salario_mas_alto = df['Salary'].max()\n",
        "print(f\"Promedio de edad de los jugadores: {promedio_edad:.2f}\")\n",
        "print(f\"Edad del jugador más joven: {edad_jugador_joven}\")\n",
        "print(f\"Edad del jugador más veterano: {edad_jugador_veterano}\")\n",
        "print(f\"Promedio de salario de los jugadores: {promedio_salario:.2f}\")\n",
        "print(f\"Salario más bajo de los jugadores: {salario_mas_bajo}\")\n",
        "print(f\"Salario más alto de los jugadores: {salario_mas_alto}\")"
      ],
      "metadata": {
        "colab": {
          "base_uri": "https://localhost:8080/"
        },
        "id": "drhzAGdVd7J1",
        "outputId": "3912a058-6e19-4877-d255-26efb1338dbd"
      },
      "execution_count": 20,
      "outputs": [
        {
          "output_type": "stream",
          "name": "stdout",
          "text": [
            "Promedio de edad de los jugadores: 26.94\n",
            "Edad del jugador más joven: 19\n",
            "Edad del jugador más veterano: 40\n",
            "Promedio de salario de los jugadores: 4842684.11\n",
            "Salario más bajo de los jugadores: 30888.0\n",
            "Salario más alto de los jugadores: 25000000.0\n"
          ]
        }
      ]
    },
    {
      "cell_type": "markdown",
      "source": [
        "Obtener la moda de los números que utilizan los jugadores"
      ],
      "metadata": {
        "id": "dF9g4tognHG-"
      }
    },
    {
      "cell_type": "code",
      "source": [
        "moda_numero = df['Number'].mode()\n",
        "print(f\"La moda de los números que utilizan los jugadores es: {moda_numero.values}\")"
      ],
      "metadata": {
        "colab": {
          "base_uri": "https://localhost:8080/"
        },
        "id": "-BnvAB8Md7NJ",
        "outputId": "cc98ebb6-7bbf-4c51-e1cc-f83e79173d27"
      },
      "execution_count": 21,
      "outputs": [
        {
          "output_type": "stream",
          "name": "stdout",
          "text": [
            "La moda de los números que utilizan los jugadores es: [5]\n"
          ]
        }
      ]
    },
    {
      "cell_type": "markdown",
      "source": [
        "Obtener:\n",
        "Equipos con menos jugadores en el dataset\n",
        "Equipos con más jugadores en el dataset"
      ],
      "metadata": {
        "id": "BoO4ZDhWnL6B"
      }
    },
    {
      "cell_type": "code",
      "source": [
        "jugadores_por_equipo = df['Team'].value_counts()\n",
        "equipo_con_menos_jugadores = jugadores_por_equipo.idxmin()\n",
        "equipo_con_mas_jugadores = jugadores_por_equipo.idxmax()\n",
        "print(f\"Equipo con menos jugadores: {equipo_con_menos_jugadores}\")\n",
        "print(f\"Equipo con más jugadores: {equipo_con_mas_jugadores}\")"
      ],
      "metadata": {
        "colab": {
          "base_uri": "https://localhost:8080/"
        },
        "id": "ycwUVn1Xd7Pp",
        "outputId": "387eb41d-d9c1-422f-caf3-d4e04864f48d"
      },
      "execution_count": 22,
      "outputs": [
        {
          "output_type": "stream",
          "name": "stdout",
          "text": [
            "Equipo con menos jugadores: Orlando Magic\n",
            "Equipo con más jugadores: New Orleans Pelicans\n"
          ]
        }
      ]
    },
    {
      "cell_type": "markdown",
      "source": [
        "Obtener\n",
        " Las variables categóricas de College\n",
        "ordenados de mayor a menor\n",
        "Universidad que se repite menos en el Dataset\n",
        "Universidad que se repite más en el Dataset"
      ],
      "metadata": {
        "id": "d15L2ktsnRFB"
      }
    },
    {
      "cell_type": "code",
      "source": [
        "frecuencia_college = df['College'].value_counts()\n",
        "frecuencia_college_ordenada = frecuencia_college.sort_values(ascending=False)\n",
        "print(\"Frecuencia de las variables categóricas en la columna 'College', ordenadas de mayor a menor:\")\n",
        "print(frecuencia_college_ordenada)"
      ],
      "metadata": {
        "colab": {
          "base_uri": "https://localhost:8080/"
        },
        "id": "v7Cns1wtd7Sb",
        "outputId": "cd85a35d-1a2e-4893-f753-7e3bd67e20d7"
      },
      "execution_count": 23,
      "outputs": [
        {
          "output_type": "stream",
          "name": "stdout",
          "text": [
            "Frecuencia de las variables categóricas en la columna 'College', ordenadas de mayor a menor:\n",
            "College\n",
            "Kentucky          22\n",
            "Duke              20\n",
            "Kansas            18\n",
            "North Carolina    16\n",
            "UCLA              15\n",
            "                  ..\n",
            "Morehead State     1\n",
            "Weber State        1\n",
            "Lehigh             1\n",
            "Westchester CC     1\n",
            "Baylor             1\n",
            "Name: count, Length: 118, dtype: int64\n"
          ]
        }
      ]
    },
    {
      "cell_type": "markdown",
      "source": [
        " Obtener:\n",
        "El número más usado por los jugadores\n",
        "El número menos usado  por los jugadores\n",
        "La moda del número más usado por los jugadores"
      ],
      "metadata": {
        "id": "O71R1W_MnaYI"
      }
    },
    {
      "source": [
        "numero_mas_repetido = df['Number'].value_counts().idxmax()\n",
        "numero_menos_usado = df['Number'].value_counts().idxmin()\n",
        "moda_numero_mas_usado = df[df['Number'] == numero_mas_repetido]['Number'].mode().iloc[0]\n",
        "print(f\"Most used number: {numero_mas_repetido}\")\n",
        "print(f\"Least used number: {numero_menos_usado}\")\n",
        "print(f\"Mode of the most used number: {moda_numero_mas_usado}\")"
      ],
      "cell_type": "code",
      "metadata": {
        "colab": {
          "base_uri": "https://localhost:8080/"
        },
        "id": "v7GeR2I0g8kH",
        "outputId": "49d12c6a-9a06-4d66-eb91-e2227e038dac"
      },
      "execution_count": 25,
      "outputs": [
        {
          "output_type": "stream",
          "name": "stdout",
          "text": [
            "Most used number: 5\n",
            "Least used number: 54\n",
            "Mode of the most used number: 5\n"
          ]
        }
      ]
    },
    {
      "cell_type": "markdown",
      "source": [
        "Cuál es la posición con el promedio de estatura más baja\n",
        "Cuál es la posición con el promedio de estatura más alta\n",
        "¿Qué Position tiene el salario más bajo en promedio?\n",
        "¿Qué Position tiene el salario más alto en promedio?"
      ],
      "metadata": {
        "id": "tVIhWZRsnfQA"
      }
    },
    {
      "cell_type": "code",
      "source": [
        "data_nba['Height_inches'] = data_nba['Height'].apply(lambda x: int(x.split('-')[0]) * 12 + int(x.split('-')[1]))\n",
        "\n",
        "promedio_altura_posicion = data_nba.groupby('Position')['Height_inches'].mean()\n",
        "posicion_promedio_altura_baja = promedio_altura_posicion.idxmin()\n",
        "posicion_promedio_altura_alta = promedio_altura_posicion.idxmax()\n",
        "\n",
        "promedio_salario_posicion = data_nba.groupby('Position')['Salary'].mean()\n",
        "posicion_salario_bajo = promedio_salario_posicion.idxmin()\n",
        "posicion_salario_alto = promedio_salario_posicion.idxmax()\n",
        "\n",
        "print(posicion_promedio_altura_baja, posicion_promedio_altura_alta, posicion_salario_bajo, posicion_salario_alto)\n"
      ],
      "metadata": {
        "colab": {
          "base_uri": "https://localhost:8080/"
        },
        "id": "dBrmUpaid7co",
        "outputId": "060fa006-3923-4522-dabd-05ef668860e7"
      },
      "execution_count": 42,
      "outputs": [
        {
          "output_type": "stream",
          "name": "stdout",
          "text": [
            "PG C SG C\n"
          ]
        }
      ]
    },
    {
      "cell_type": "markdown",
      "source": [
        "¿Qué universidad genera mas jugadores en con la posición C?\n",
        "¿Qué universidad genera menos jugadores en con la posición SF?"
      ],
      "metadata": {
        "id": "Nfo9iP2mnidv"
      }
    },
    {
      "cell_type": "code",
      "source": [
        "universidades_posicion_c = data_nba[data_nba['Position'] == 'C']['College'].value_counts()\n",
        "universidad_mas_jugadores_c = universidades_posicion_c.idxmax()\n",
        "\n",
        "universidades_posicion_sf = data_nba[data_nba['Position'] == 'SF']['College'].value_counts()\n",
        "universidad_menos_jugadores_sf = universidades_posicion_sf.idxmin()\n",
        "\n",
        "print(universidad_mas_jugadores_c, universidad_menos_jugadores_sf)\n"
      ],
      "metadata": {
        "colab": {
          "base_uri": "https://localhost:8080/"
        },
        "id": "u0IjaVu0nmRA",
        "outputId": "e3ff4720-e7c6-4dd3-a1cc-3bf556feb14b"
      },
      "execution_count": 43,
      "outputs": [
        {
          "output_type": "stream",
          "name": "stdout",
          "text": [
            "Kentucky Memphis\n"
          ]
        }
      ]
    }
  ]
}